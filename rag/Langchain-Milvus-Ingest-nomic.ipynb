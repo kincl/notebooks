{
 "cells": [
  {
   "cell_type": "markdown",
   "id": "3420575b-4d00-458b-aa0e-7030008ccd53",
   "metadata": {},
   "source": [
    "## Creating an index and populating it with documents using Milvus and Nomic AI Embeddings\n",
    "\n",
    "Simple example on how to ingest PDF documents, then web pages content into a Milvus VectorStore. . In this example, the embeddings are the fully open source ones released by NomicAI, [nomic-embed-text-v1](https://huggingface.co/nomic-ai/nomic-embed-text-v1).\n",
    "\n",
    "As described in [this blog post](https://blog.nomic.ai/posts/nomic-embed-text-v1), those embeddings feature a \"8192 context-length that outperforms OpenAI Ada-002 and text-embedding-3-small on both short and long context tasks\". In additions, they are:\n",
    "\n",
    "- Open source\n",
    "- Open data\n",
    "- Open training code\n",
    "- Fully reproducible and auditable\n",
    "\n",
    "Requirements:\n",
    "- A Milvus instance, either standalone or cluster."
   ]
  },
  {
   "cell_type": "markdown",
   "id": "8308b229-b520-4e82-a783-eb921bb955e7",
   "metadata": {},
   "source": [
    "### Needed packages and imports"
   ]
  },
  {
   "cell_type": "code",
   "execution_count": 1,
   "id": "91e41b41-f60a-4b0f-91a1-cd273b60f21b",
   "metadata": {
    "tags": []
   },
   "outputs": [
    {
     "name": "stdout",
     "output_type": "stream",
     "text": [
      "\n",
      "\u001b[1m[\u001b[0m\u001b[34;49mnotice\u001b[0m\u001b[1;39;49m]\u001b[0m\u001b[39;49m A new release of pip available: \u001b[0m\u001b[31;49m22.2.2\u001b[0m\u001b[39;49m -> \u001b[0m\u001b[32;49m24.2\u001b[0m\n",
      "\u001b[1m[\u001b[0m\u001b[34;49mnotice\u001b[0m\u001b[1;39;49m]\u001b[0m\u001b[39;49m To update, run: \u001b[0m\u001b[32;49mpip install --upgrade pip\u001b[0m\n"
     ]
    }
   ],
   "source": [
    "!pip install -q einops==0.7.0 langchain==0.1.9 pypdf==4.0.2 pymilvus==2.3.6 sentence-transformers==2.4.0"
   ]
  },
  {
   "cell_type": "code",
   "execution_count": 2,
   "id": "600cd763-6ecc-4c77-89c0-47108c31c44e",
   "metadata": {
    "tags": []
   },
   "outputs": [],
   "source": [
    "import requests\n",
    "import os\n",
    "from langchain.document_loaders import PyPDFDirectoryLoader, WebBaseLoader\n",
    "from langchain.text_splitter import RecursiveCharacterTextSplitter\n",
    "from langchain.embeddings.huggingface import HuggingFaceEmbeddings\n",
    "from langchain_community.vectorstores import Milvus"
   ]
  },
  {
   "cell_type": "markdown",
   "id": "1a82063d-6153-4812-8977-042241736b53",
   "metadata": {},
   "source": [
    "### Base parameters, the Milvus connection info"
   ]
  },
  {
   "cell_type": "code",
   "execution_count": 21,
   "id": "417ed4a4-9418-4f48-bebd-ef0ea11ae434",
   "metadata": {
    "tags": []
   },
   "outputs": [],
   "source": [
    "MILVUS_HOST = \"vectordb-milvus.ic-shared-milvus.svc.cluster.local\"\n",
    "MILVUS_PORT = 19530\n",
    "MILVUS_USERNAME = \"root\"\n",
    "MILVUS_PASSWORD = \"Milvus\"\n",
    "MILVUS_COLLECTION = \"collection_nomicai_embeddings\"\n",
    "HF_TOKEN = \"\""
   ]
  },
  {
   "cell_type": "markdown",
   "id": "f68f6785-480e-4519-be4f-8e1738dba4ca",
   "metadata": {},
   "source": [
    "## Initial index creation and document ingestion"
   ]
  },
  {
   "cell_type": "markdown",
   "id": "f8cff5f7-c509-48db-90b5-e15815b8b530",
   "metadata": {},
   "source": [
    "#### Download and load pdfs"
   ]
  },
  {
   "cell_type": "code",
   "execution_count": 5,
   "id": "bc4fe0db-f494-4cbd-9e97-8b6359a78cb7",
   "metadata": {
    "tags": []
   },
   "outputs": [],
   "source": [
    "product_version = 2.12\n",
    "documents = [\n",
    "    \"release_notes/Red_Hat_OpenShift_AI_Self-Managed-2.12-Release_notes-en-US.pdf\"\n",
    "    #\"introduction_to_red_hat_openshift_ai\",\n",
    "    #\"getting_started_with_red_hat_openshift_ai_self-managed\",\n",
    "    #\"openshift_ai_tutorial_-_fraud_detection_example\",\n",
    "    #\"developing_a_model\",\n",
    "    #\"integrating_data_from_amazon_s3\",\n",
    "    #\"working_on_data_science_projects\",\n",
    "    #\"serving_models\",\n",
    "    #\"monitoring_data_science_models\",\n",
    "    #\"managing_users\",\n",
    "    #\"managing_resources\",\n",
    "    #\"installing_and_uninstalling_openshift_ai_self-managed\",\n",
    "    #\"installing_and_uninstalling_openshift_ai_self-managed_in_a_disconnected_environment\",\n",
    "    #\"upgrading_openshift_ai_self-managed\",\n",
    "    #\"upgrading_openshift_ai_self-managed_in_a_disconnected_environment\",\n",
    "]\n",
    "\n",
    "pdfs = [f\"https://docs.redhat.com/en-us/documentation/red_hat_openshift_ai_self-managed/{product_version}/pdf/{doc}\" for doc in documents]\n",
    "pdfs_to_urls = {f\"red_hat_openshift_ai_self-managed-{product_version}-{doc}-en-us\": f\"https://access.redhat.com/documentation/en-us/red_hat_openshift_ai_self-managed/{product_version}/html-single/{doc}/index\" for doc in documents}"
   ]
  },
  {
   "cell_type": "code",
   "execution_count": 6,
   "id": "3eea5acc-49df-41c9-a01a-0cdbca96e8e2",
   "metadata": {},
   "outputs": [],
   "source": [
    "docs_dir = f\"rhoai-doc-{product_version}\"\n",
    "\n",
    "if not os.path.exists(docs_dir):\n",
    "    os.mkdir(docs_dir)\n",
    "\n",
    "for pdf in pdfs:\n",
    "    try:\n",
    "        response = requests.get(pdf)\n",
    "    except:\n",
    "        print(f\"Skipped {pdf}\")\n",
    "        continue\n",
    "    if response.status_code!=200:\n",
    "        print(f\"Skipped {pdf}\")\n",
    "        continue  \n",
    "    with open(f\"{docs_dir}/{pdf.split('/')[-1]}\", 'wb') as f:\n",
    "        f.write(response.content)"
   ]
  },
  {
   "cell_type": "code",
   "execution_count": 7,
   "id": "af4074d4-eff4-45b2-902d-ec8c075a83ef",
   "metadata": {
    "tags": []
   },
   "outputs": [],
   "source": [
    "pdf_folder_path = f\"./rhoai-doc-{product_version}\"\n",
    "\n",
    "pdf_loader = PyPDFDirectoryLoader(pdf_folder_path)\n",
    "pdf_docs = pdf_loader.load()"
   ]
  },
  {
   "cell_type": "markdown",
   "id": "cde7ed3a-0530-47a1-95c2-22db6c782a95",
   "metadata": {},
   "source": [
    "#### Inject metadata"
   ]
  },
  {
   "cell_type": "code",
   "execution_count": 8,
   "id": "702230f6-e6d3-44c7-a643-4996387606ff",
   "metadata": {
    "tags": []
   },
   "outputs": [
    {
     "ename": "KeyError",
     "evalue": "'Red_Hat_OpenShift_AI_Self-Managed-2.12-Release_notes-en-US'",
     "output_type": "error",
     "traceback": [
      "\u001b[0;31m---------------------------------------------------------------------------\u001b[0m",
      "\u001b[0;31mKeyError\u001b[0m                                  Traceback (most recent call last)",
      "Cell \u001b[0;32mIn[8], line 4\u001b[0m\n\u001b[1;32m      1\u001b[0m \u001b[38;5;28;01mfrom\u001b[39;00m \u001b[38;5;21;01mpathlib\u001b[39;00m \u001b[38;5;28;01mimport\u001b[39;00m Path\n\u001b[1;32m      3\u001b[0m \u001b[38;5;28;01mfor\u001b[39;00m doc \u001b[38;5;129;01min\u001b[39;00m pdf_docs:\n\u001b[0;32m----> 4\u001b[0m     doc\u001b[38;5;241m.\u001b[39mmetadata[\u001b[38;5;124m\"\u001b[39m\u001b[38;5;124msource\u001b[39m\u001b[38;5;124m\"\u001b[39m] \u001b[38;5;241m=\u001b[39m \u001b[43mpdfs_to_urls\u001b[49m\u001b[43m[\u001b[49m\u001b[43mPath\u001b[49m\u001b[43m(\u001b[49m\u001b[43mdoc\u001b[49m\u001b[38;5;241;43m.\u001b[39;49m\u001b[43mmetadata\u001b[49m\u001b[43m[\u001b[49m\u001b[38;5;124;43m\"\u001b[39;49m\u001b[38;5;124;43msource\u001b[39;49m\u001b[38;5;124;43m\"\u001b[39;49m\u001b[43m]\u001b[49m\u001b[43m)\u001b[49m\u001b[38;5;241;43m.\u001b[39;49m\u001b[43mstem\u001b[49m\u001b[43m]\u001b[49m\n",
      "\u001b[0;31mKeyError\u001b[0m: 'Red_Hat_OpenShift_AI_Self-Managed-2.12-Release_notes-en-US'"
     ]
    }
   ],
   "source": [
    "from pathlib import Path\n",
    "\n",
    "for doc in pdf_docs:\n",
    "    doc.metadata[\"source\"] = pdfs_to_urls[Path(doc.metadata[\"source\"]).stem]"
   ]
  },
  {
   "cell_type": "markdown",
   "id": "dd511d44-2d92-47a0-9163-b25576c9557b",
   "metadata": {},
   "source": [
    "#### Load websites"
   ]
  },
  {
   "cell_type": "code",
   "execution_count": 9,
   "id": "8aebf003-d7ec-43ba-8e04-1931bcff2866",
   "metadata": {
    "tags": []
   },
   "outputs": [],
   "source": [
    "websites = [\n",
    "    \"https://ai-on-openshift.io/getting-started/openshift/\",\n",
    "    \"https://ai-on-openshift.io/getting-started/opendatahub/\",\n",
    "    \"https://ai-on-openshift.io/getting-started/openshift-ai/\",\n",
    "    \"https://ai-on-openshift.io/odh-rhoai/configuration/\",\n",
    "    \"https://ai-on-openshift.io/odh-rhoai/custom-notebooks/\",\n",
    "    \"https://ai-on-openshift.io/odh-rhoai/nvidia-gpus/\",\n",
    "    \"https://ai-on-openshift.io/odh-rhoai/custom-runtime-triton/\",\n",
    "    \"https://ai-on-openshift.io/odh-rhoai/openshift-group-management/\",\n",
    "    \"https://ai-on-openshift.io/tools-and-applications/minio/minio/\",\n",
    "    \"https://access.redhat.com/articles/7047935\",\n",
    "    \"https://access.redhat.com/articles/rhoai-supported-configs\",\n",
    "]"
   ]
  },
  {
   "cell_type": "code",
   "execution_count": null,
   "id": "99f41110-8ca7-4d90-93b2-3b5021c894b8",
   "metadata": {
    "tags": []
   },
   "outputs": [],
   "source": [
    "website_loader = WebBaseLoader(websites)\n",
    "website_docs = website_loader.load()"
   ]
  },
  {
   "cell_type": "markdown",
   "id": "157ddd29-54b3-474a-9b10-2d274bc3254f",
   "metadata": {},
   "source": [
    "#### Merge both types of docs"
   ]
  },
  {
   "cell_type": "code",
   "execution_count": 10,
   "id": "8d361094-8b43-4351-8495-37628c35c42d",
   "metadata": {
    "tags": []
   },
   "outputs": [],
   "source": [
    "#docs = pdf_docs + website_docs\n",
    "docs = pdf_docs"
   ]
  },
  {
   "cell_type": "markdown",
   "id": "4198fe0a-38bf-4cd4-af7d-35b41c645edd",
   "metadata": {},
   "source": [
    "#### Split documents into chunks with some overlap"
   ]
  },
  {
   "cell_type": "code",
   "execution_count": 11,
   "id": "edba4a08-2194-4df1-9091-6f2b596757a1",
   "metadata": {
    "tags": []
   },
   "outputs": [
    {
     "data": {
      "text/plain": [
       "Document(page_content='Red Hat OpenShift AI Self-Managed\\n \\n2.12\\nRelease notes\\nFeatures, enhancements, resolved issues, and known issues associated with this\\nrelease\\nLast Updated: 2024-08-27', metadata={'source': 'rhoai-doc-2.12/Red_Hat_OpenShift_AI_Self-Managed-2.12-Release_notes-en-US.pdf', 'page': 0})"
      ]
     },
     "execution_count": 11,
     "metadata": {},
     "output_type": "execute_result"
    }
   ],
   "source": [
    "text_splitter = RecursiveCharacterTextSplitter(chunk_size=1024,\n",
    "                                               chunk_overlap=40)\n",
    "all_splits = text_splitter.split_documents(docs)\n",
    "all_splits[0]"
   ]
  },
  {
   "cell_type": "markdown",
   "id": "7ae7eae2-c670-4eb5-803b-b4d591fa83db",
   "metadata": {},
   "source": [
    "#### Create the index and ingest the documents"
   ]
  },
  {
   "cell_type": "code",
   "execution_count": 28,
   "id": "bbb6a3e3-5ccd-441e-b80d-427555d9e9f6",
   "metadata": {
    "tags": []
   },
   "outputs": [
    {
     "name": "stderr",
     "output_type": "stream",
     "text": [
      "You try to use a model that was created with version 2.4.0.dev0, however, your version is 2.4.0. This might cause unexpected behavior or errors. In that case, try to update to the latest version.\n",
      "\n",
      "\n",
      "\n",
      "<All keys matched successfully>\n"
     ]
    }
   ],
   "source": [
    "# If you don't want to use a GPU, you can remove the 'device': 'cuda' argument\n",
    "model_kwargs = {'trust_remote_code': True, 'device': 'cuda', 'token': HF_TOKEN}\n",
    "embeddings = HuggingFaceEmbeddings(\n",
    "    model_name=\"nomic-ai/nomic-embed-text-v1\",\n",
    "    model_kwargs=model_kwargs,\n",
    "    show_progress=True\n",
    ")\n",
    "\n",
    "\n",
    "db = Milvus(\n",
    "    embedding_function=embeddings,\n",
    "    connection_args={\"host\": MILVUS_HOST, \"port\": MILVUS_PORT, \"user\": MILVUS_USERNAME, \"password\": MILVUS_PASSWORD},\n",
    "    collection_name=MILVUS_COLLECTION,\n",
    "    metadata_field=\"metadata\",\n",
    "    text_field=\"page_content\",\n",
    "    auto_id=True,\n",
    "    drop_old=True\n",
    "    )"
   ]
  },
  {
   "cell_type": "code",
   "execution_count": 29,
   "id": "b6bf425b-dffd-4f42-9537-49d41383182d",
   "metadata": {
    "tags": []
   },
   "outputs": [
    {
     "name": "stderr",
     "output_type": "stream",
     "text": [
      "Batches: 100%|██████████| 3/3 [00:00<00:00,  4.99it/s]\n"
     ]
    },
    {
     "data": {
      "text/plain": [
       "[452171186136437710,\n",
       " 452171186136437711,\n",
       " 452171186136437712,\n",
       " 452171186136437713,\n",
       " 452171186136437714,\n",
       " 452171186136437715,\n",
       " 452171186136437716,\n",
       " 452171186136437717,\n",
       " 452171186136437718,\n",
       " 452171186136437719,\n",
       " 452171186136437720,\n",
       " 452171186136437721,\n",
       " 452171186136437722,\n",
       " 452171186136437723,\n",
       " 452171186136437724,\n",
       " 452171186136437725,\n",
       " 452171186136437726,\n",
       " 452171186136437727,\n",
       " 452171186136437728,\n",
       " 452171186136437729,\n",
       " 452171186136437730,\n",
       " 452171186136437731,\n",
       " 452171186136437732,\n",
       " 452171186136437733,\n",
       " 452171186136437734,\n",
       " 452171186136437735,\n",
       " 452171186136437736,\n",
       " 452171186136437737,\n",
       " 452171186136437738,\n",
       " 452171186136437739,\n",
       " 452171186136437740,\n",
       " 452171186136437741,\n",
       " 452171186136437742,\n",
       " 452171186136437743,\n",
       " 452171186136437744,\n",
       " 452171186136437745,\n",
       " 452171186136437746,\n",
       " 452171186136437747,\n",
       " 452171186136437748,\n",
       " 452171186136437749,\n",
       " 452171186136437750,\n",
       " 452171186136437751,\n",
       " 452171186136437752,\n",
       " 452171186136437753,\n",
       " 452171186136437754,\n",
       " 452171186136437755,\n",
       " 452171186136437756,\n",
       " 452171186136437757,\n",
       " 452171186136437758,\n",
       " 452171186136437759,\n",
       " 452171186136437760,\n",
       " 452171186136437761,\n",
       " 452171186136437762,\n",
       " 452171186136437763,\n",
       " 452171186136437764,\n",
       " 452171186136437765,\n",
       " 452171186136437766,\n",
       " 452171186136437767,\n",
       " 452171186136437768,\n",
       " 452171186136437769,\n",
       " 452171186136437770,\n",
       " 452171186136437771,\n",
       " 452171186136437772,\n",
       " 452171186136437773,\n",
       " 452171186136437774,\n",
       " 452171186136437775,\n",
       " 452171186136437776,\n",
       " 452171186136437777,\n",
       " 452171186136437778,\n",
       " 452171186136437779,\n",
       " 452171186136437780,\n",
       " 452171186136437781,\n",
       " 452171186136437782,\n",
       " 452171186136437783,\n",
       " 452171186136437784,\n",
       " 452171186136437785,\n",
       " 452171186136437786,\n",
       " 452171186136437787,\n",
       " 452171186136437788,\n",
       " 452171186136437789,\n",
       " 452171186136437790,\n",
       " 452171186136437791,\n",
       " 452171186136437792,\n",
       " 452171186136437793,\n",
       " 452171186136437794,\n",
       " 452171186136437795,\n",
       " 452171186136437796,\n",
       " 452171186136437797,\n",
       " 452171186136437798,\n",
       " 452171186136437799,\n",
       " 452171186136437800]"
      ]
     },
     "execution_count": 29,
     "metadata": {},
     "output_type": "execute_result"
    }
   ],
   "source": [
    "db.add_documents(all_splits)"
   ]
  },
  {
   "cell_type": "markdown",
   "id": "7a3d987b-8ebc-46ce-a206-48c1339b7a5b",
   "metadata": {},
   "source": [
    "#### Alternatively, add new documents"
   ]
  },
  {
   "cell_type": "code",
   "execution_count": 24,
   "id": "c37f227d-a13d-456c-b91b-3c203e62fc0f",
   "metadata": {},
   "outputs": [],
   "source": [
    "# If you don't want to use a GPU, you can remove the 'device': 'cuda' argument\n",
    "# model_kwargs = {'trust_remote_code': True, 'device': 'cuda'}\n",
    "# embeddings = HuggingFaceEmbeddings(\n",
    "#     model_name=\"nomic-ai/nomic-embed-text-v1\",\n",
    "#     model_kwargs=model_kwargs,\n",
    "#     show_progress=True\n",
    "# )\n",
    "\n",
    "# db = Milvus(\n",
    "#     embedding_function=embeddings,\n",
    "#     connection_args={\"host\": MILVUS_HOST, \"port\": MILVUS_PORT, \"user\": MILVUS_USERNAME, \"password\": MILVUS_PASSWORD},\n",
    "#     collection_name=MILVUS_COLLECTION,\n",
    "#     metadata_field=\"metadata\",\n",
    "#     text_field=\"page_content\",\n",
    "#     auto_id=True,\n",
    "#     drop_old=False\n",
    "#     )\n",
    "\n",
    "# db.add_documents(all_splits)"
   ]
  },
  {
   "cell_type": "markdown",
   "id": "dae3b458-4979-46df-8493-7496764a2568",
   "metadata": {},
   "source": [
    "#### Test query"
   ]
  },
  {
   "cell_type": "code",
   "execution_count": 31,
   "id": "489c6e6d-c42c-4de4-87cf-8edfd0e63da3",
   "metadata": {
    "tags": []
   },
   "outputs": [
    {
     "name": "stderr",
     "output_type": "stream",
     "text": [
      "Batches: 100%|██████████| 1/1 [00:00<00:00, 79.11it/s]\n"
     ]
    }
   ],
   "source": [
    "query = \"How can I work with GPU and taints in OpenShift AI?\"\n",
    "docs_with_score = db.similarity_search_with_score(query)"
   ]
  },
  {
   "cell_type": "code",
   "execution_count": 32,
   "id": "90feeb37-7888-4c5f-a5cb-5f82637cec16",
   "metadata": {
    "tags": []
   },
   "outputs": [
    {
     "name": "stdout",
     "output_type": "stream",
     "text": [
      "--------------------------------------------------------------------------------\n",
      "Score:  0.6150780916213989\n",
      "For administrators, OpenShift AI enables data science workloads in an existing Red Hat OpenShift or\n",
      "ROSA environment. Manage users with your existing OpenShift identity provider, and manage the\n",
      "resources available to notebook servers to ensure data scientists have what they require to create, train,\n",
      "and host models. Use accelerators to reduce costs and allow your data scientists to enhance the\n",
      "performance of their end-to-end data science workflows using graphics processing units (GPUs) and\n",
      "Intel Gaudi AI accelerators.\n",
      "OpenShift AI has two deployment options:\n",
      "Self-managed software\n",
      " that you can install on-premise or in the cloud. You can install\n",
      "OpenShift AI Self-Managed in a self-managed environment such as OpenShift Container\n",
      "Platform, or in Red Hat-managed cloud environments such as Red Hat OpenShift Dedicated\n",
      "(with a Customer Cloud Subscription for AWS or GCP), Red Hat OpenShift Service on Amazon\n",
      "Web Services (ROSA Classic or ROSA HCP), or Microsoft Azure Red Hat OpenShift.\n",
      "--------------------------------------------------------------------------------\n",
      "--------------------------------------------------------------------------------\n",
      "Score:  0.6360740661621094\n",
      "CHAPTER 1. OVERVIEW OF OPENSHIFT AI\n",
      "Red Hat OpenShift AI is a platform for data scientists and developers of artificial intelligence and\n",
      "machine learning (AI/ML) applications.\n",
      "OpenShift AI provides an environment to develop, train, serve, test, and monitor AI/ML models and\n",
      "applications on-premise or in the cloud.\n",
      "For data scientists, OpenShift AI includes Jupyter and a collection of default notebook images\n",
      "optimized with the tools and libraries required for model development, and the TensorFlow and PyTorch\n",
      "frameworks. Deploy and host your models, integrate models into external applications, and export\n",
      "models to host them in any hybrid cloud environment. You can enhance your data science projects on\n",
      "OpenShift AI by building portable machine learning (ML) workflows with data science pipelines, using\n",
      "Docker containers. You can also accelerate your data science experiments through the use of graphics\n",
      "processing units (GPUs) and Intel Gaudi AI accelerators.\n",
      "--------------------------------------------------------------------------------\n",
      "--------------------------------------------------------------------------------\n",
      "Score:  0.6737768650054932\n",
      "Workaround\n",
      "None.\n",
      "RHOAIENG-1141\n",
      " (previously documented as RHODS-4502) - The NVIDIA GPU Operator tile on the\n",
      "dashboard displays button unnecessarily\n",
      "GPUs are automatically available in Jupyter after the NVIDIA GPU Operator is installed. The \n",
      "Enable\n",
      "button, located on the NVIDIA GPU Operator tile on the \n",
      "Explore\n",
      " page, is therefore redundant. In\n",
      "addition, clicking the \n",
      "Enable\n",
      " button moves the NVIDIA GPU Operator tile to the \n",
      "Enabled\n",
      " page, even if\n",
      "Red Hat OpenShift AI Self-Managed 2.12 Release notes\n",
      "28\n",
      "--------------------------------------------------------------------------------\n",
      "--------------------------------------------------------------------------------\n",
      "Score:  0.6932201385498047\n",
      "IMPORTANT\n",
      "If you want to use existing pipelines and workbenches with data science pipelines 2.0\n",
      "after upgrading to OpenShift AI 2.12, you must update your workbenches to use the\n",
      "2024.1 notebook image version and then manually migrate your pipelines from data\n",
      "science pipelines 1.0 to 2.0. For more information, see \n",
      "Upgrading to data science\n",
      "pipelines 2.0\n",
      ".\n",
      "6.1.3. Embedded subscription channel no longer used\n",
      "Starting with OpenShift AI 2.8, the \n",
      "embedded\n",
      " subscription channel is no longer used. You can no longer\n",
      "select the \n",
      "embedded\n",
      " channel for a new installation of the Operator. For more information about\n",
      "subscription channels, see \n",
      "Installing the Red Hat OpenShift AI Operator\n",
      ".\n",
      "6.1.4. Removal of bias detection (TrustyAI)\n",
      "Starting with OpenShift AI 2.7,the (TrustyAI) bias detection functionality has been removed. If you\n",
      "previously had this functionality enabled, upgrading to OpenShift AI 2.7 or later will remove the feature.\n",
      "The default TrustyAI notebook image remains supported.\n",
      "--------------------------------------------------------------------------------\n"
     ]
    }
   ],
   "source": [
    "for doc, score in docs_with_score:\n",
    "    print(\"-\" * 80)\n",
    "    print(\"Score: \", score)\n",
    "    print(doc.page_content)\n",
    "    print(\"-\" * 80)"
   ]
  },
  {
   "cell_type": "code",
   "execution_count": null,
   "id": "2fa6f2a3-1623-4fc6-b0e4-289067396ef8",
   "metadata": {},
   "outputs": [],
   "source": []
  }
 ],
 "metadata": {
  "kernelspec": {
   "display_name": "Python 3.9",
   "language": "python",
   "name": "python3"
  },
  "language_info": {
   "codemirror_mode": {
    "name": "ipython",
    "version": 3
   },
   "file_extension": ".py",
   "mimetype": "text/x-python",
   "name": "python",
   "nbconvert_exporter": "python",
   "pygments_lexer": "ipython3",
   "version": "3.9.18"
  }
 },
 "nbformat": 4,
 "nbformat_minor": 5
}
