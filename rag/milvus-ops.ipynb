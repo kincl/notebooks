{
 "cells": [
  {
   "cell_type": "code",
   "execution_count": 18,
   "id": "ce61299b-849f-4e83-9774-745bd2973b55",
   "metadata": {
    "tags": []
   },
   "outputs": [],
   "source": [
    "from pymilvus import connections, db, MilvusClient\n",
    "\n",
    "conn = connections.connect(\n",
    "    host=\"vectordb-milvus.ic-shared-milvus.svc.cluster.local\", \n",
    "    port=19530,\n",
    "    user=\"root\",\n",
    "    password=\"Milvus\"\n",
    ")\n",
    "\n",
    "#client = MilvusClient(\n",
    "#    address=\"http://vectordb-milvus.ic-shared-milvus.svc.cluster.local:19530\",\n",
    "#    username=\"root\",\n",
    "#    password=\"Milvus\"\n",
    "#)\n",
    "client = MilvusClient(\n",
    "    uri=\"http://vectordb-milvus.ic-shared-milvus.svc.cluster.local:19530\",\n",
    "    token=\"root:Milvus\"\n",
    ")\n",
    "\n"
   ]
  },
  {
   "cell_type": "code",
   "execution_count": 24,
   "id": "b2046a51-401d-4a34-afc7-8007c5af64ca",
   "metadata": {
    "tags": []
   },
   "outputs": [
    {
     "data": {
      "text/plain": [
       "['california_driver_handbook_1_0']"
      ]
     },
     "execution_count": 24,
     "metadata": {},
     "output_type": "execute_result"
    }
   ],
   "source": [
    "db.list_database()\n",
    "client.list_collections() "
   ]
  },
  {
   "cell_type": "code",
   "execution_count": 22,
   "id": "83d20733-f28b-415c-80ef-4371e2e9215b",
   "metadata": {
    "tags": []
   },
   "outputs": [],
   "source": [
    "client.drop_collection('collection_nomicai_embeddings')"
   ]
  },
  {
   "cell_type": "code",
   "execution_count": null,
   "id": "c32e0f59-0536-45dd-929b-e4771a53a5c3",
   "metadata": {},
   "outputs": [],
   "source": []
  }
 ],
 "metadata": {
  "kernelspec": {
   "display_name": "Python 3.9",
   "language": "python",
   "name": "python3"
  },
  "language_info": {
   "codemirror_mode": {
    "name": "ipython",
    "version": 3
   },
   "file_extension": ".py",
   "mimetype": "text/x-python",
   "name": "python",
   "nbconvert_exporter": "python",
   "pygments_lexer": "ipython3",
   "version": "3.9.18"
  }
 },
 "nbformat": 4,
 "nbformat_minor": 5
}
